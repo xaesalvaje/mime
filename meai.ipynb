{
  "nbformat": 4,
  "nbformat_minor": 0,
  "metadata": {
    "colab": {
      "provenance": [],
      "authorship_tag": "ABX9TyMZUuwD9/oEGe6VZvs6UaOH",
      "include_colab_link": true
    },
    "kernelspec": {
      "name": "python3",
      "display_name": "Python 3"
    },
    "language_info": {
      "name": "python"
    }
  },
  "cells": [
    {
      "cell_type": "markdown",
      "metadata": {
        "id": "view-in-github",
        "colab_type": "text"
      },
      "source": [
        "<a href=\"https://colab.research.google.com/github/xaesalvaje/mime/blob/main/meai.ipynb\" target=\"_parent\"><img src=\"https://colab.research.google.com/assets/colab-badge.svg\" alt=\"Open In Colab\"/></a>"
      ]
    },
    {
      "cell_type": "code",
      "execution_count": null,
      "metadata": {
        "id": "bcZ-s8u-j1Oo"
      },
      "outputs": [],
      "source": [
        "import tensorflow as tf\n",
        "from tensorflow import keras\n",
        "import numpy as np"
      ]
    },
    {
      "cell_type": "code",
      "source": [
        "# Load the data as a text file\n",
        "filename = \"mywords.txt\"\n",
        "text = open(filename, 'r').read()\n",
        "\n",
        "# Split the text into words\n",
        "words = text.split()\n",
        "\n",
        "# Map each word to an integer value\n",
        "unique_words = np.unique(words)\n",
        "word_dict = {w: i for i, w in enumerate(unique_words)}\n",
        "int_words = np.array([word_dict[w] for w in words], dtype=np.int32)\n",
        "\n",
        "# Define the sequence length and step size\n",
        "seq_length = 50\n",
        "step_size = 1\n",
        "\n",
        "# Generate input sequences and labels\n",
        "sequences = []\n",
        "labels = []\n",
        "for i in range(0, len(int_words) - seq_length, step_size):\n",
        "    seq = int_words[i:i+seq_length]\n",
        "    label = int_words[i+seq_length]\n",
        "    sequences.append(seq)\n",
        "    labels.append(label)\n",
        "    \n",
        "# Convert input sequences and labels to numpy arrays\n",
        "sequences = np.array(sequences)\n",
        "labels = np.array(labels)"
      ],
      "metadata": {
        "id": "I_7s242dkKzc"
      },
      "execution_count": null,
      "outputs": []
    },
    {
      "cell_type": "code",
      "source": [
        "# Define the model architecture\n",
        "model = keras.models.Sequential([\n",
        "    keras.layers.Embedding(len(unique_words), 256, input_length=seq_length),\n",
        "    keras.layers.LSTM(512),\n",
        "    keras.layers.Dense(len(unique_words), activation='softmax')\n",
        "])\n",
        "\n",
        "# Compile the model\n",
        "model.compile(loss='sparse_categorical_crossentropy', optimizer='adam')"
      ],
      "metadata": {
        "id": "jQb2IE7JkM2X"
      },
      "execution_count": null,
      "outputs": []
    },
    {
      "cell_type": "code",
      "source": [
        "# Train the model\n",
        "model.fit(sequences, labels, epochs=50, batch_size=1024)"
      ],
      "metadata": {
        "colab": {
          "base_uri": "https://localhost:8080/"
        },
        "id": "-kP-nLRUkPFd",
        "outputId": "ac51f865-15ec-400e-a2c2-f55d9af6b530"
      },
      "execution_count": null,
      "outputs": [
        {
          "output_type": "stream",
          "name": "stdout",
          "text": [
            "Epoch 1/50\n",
            "64/64 [==============================] - 638s 10s/step - loss: 7.2127\n",
            "Epoch 2/50\n",
            "64/64 [==============================] - 636s 10s/step - loss: 6.6681\n",
            "Epoch 3/50\n",
            "11/64 [====>.........................] - ETA: 8:53 - loss: 6.5375"
          ]
        }
      ]
    },
    {
      "cell_type": "code",
      "source": [
        "# Test the model\n",
        "prompt = \"I'm feeling bored today.\"\n",
        "seed_seq = [word_dict[word] for word in prompt.split()]\n",
        "for i in range(50):\n",
        "    x_input = np.array(seed_seq[-seq_length:]).reshape(1, seq_length)\n",
        "    pred = model.predict(x_input, verbose=0)\n",
        "    next_word = np.argmax(pred)\n",
        "    seed_seq.append(next_word)\n",
        "output = ' '.join([unique_words[word] for word in seed_seq])\n",
        "print(output)"
      ],
      "metadata": {
        "id": "cekVfXB5kRng"
      },
      "execution_count": null,
      "outputs": []
    }
  ]
}